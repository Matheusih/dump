{
 "cells": [
  {
   "cell_type": "code",
   "execution_count": 1,
   "metadata": {},
   "outputs": [],
   "source": [
    "import math\n",
    "import random"
   ]
  },
  {
   "cell_type": "code",
   "execution_count": 31,
   "metadata": {},
   "outputs": [],
   "source": [
    "def f(x):\n",
    "    y = x**3 - 9*x + 5\n",
    "    #y = (x**4) - 8*(x**3) - 35*(x**2) + 450 * x - 1001\n",
    "    return y\n",
    "\n",
    "def metodBisec(a,b,e):\n",
    "    max_k = 100000000000\n",
    "    if b-a < e:\n",
    "        x = random.uniform(a,b)\n",
    "    else:\n",
    "        k=1\n",
    "        m=f(a)\n",
    "        while k < max_k:\n",
    "            x = (a+b)/2\n",
    "            if m*f(x) > 0:\n",
    "                a = x\n",
    "            else:\n",
    "                b = x\n",
    "            if b-a<e:\n",
    "                x = random.uniform(a,b)\n",
    "            k = k + 1\n",
    "        print('Root of interval is {}'.format(x))"
   ]
  },
  {
   "cell_type": "code",
   "execution_count": null,
   "metadata": {},
   "outputs": [],
   "source": [
    "metodBisec(0.5,1,0.01)"
   ]
  },
  {
   "cell_type": "code",
   "execution_count": null,
   "metadata": {},
   "outputs": [],
   "source": []
  }
 ],
 "metadata": {
  "kernelspec": {
   "display_name": "Python 3",
   "language": "python",
   "name": "python3"
  },
  "language_info": {
   "codemirror_mode": {
    "name": "ipython",
    "version": 3
   },
   "file_extension": ".py",
   "mimetype": "text/x-python",
   "name": "python",
   "nbconvert_exporter": "python",
   "pygments_lexer": "ipython3",
   "version": "3.6.5"
  }
 },
 "nbformat": 4,
 "nbformat_minor": 2
}
