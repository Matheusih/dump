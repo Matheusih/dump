{
 "cells": [
  {
   "cell_type": "code",
   "execution_count": 88,
   "metadata": {},
   "outputs": [],
   "source": [
    "from __future__ import division  \n",
    "import numpy as np  \n",
    "from numpy import linalg  \n",
    " \n",
    "def jacobi(A,b,x0,tol,N):  \n",
    "    #preliminares  \n",
    "    A = A.astype('double')  \n",
    "    b = b.astype('double')  \n",
    "    x0 = x0.astype('double')  \n",
    " \n",
    "    n=np.shape(A)[0]  \n",
    "    x = np.zeros(n)  \n",
    "    it = 0  \n",
    "    #iteracoes  \n",
    "    while (it < N):  \n",
    "        it = it+1  \n",
    "        #iteracao de Jacobi  \n",
    "        for i in np.arange(n):  \n",
    "            x[i] = b[i]  \n",
    "            for j in np.concatenate((np.arange(0,i),np.arange(i+1,n))):  \n",
    "                x[i] -= A[i,j]*x0[j]  \n",
    "            x[i] /= A[i,i]  \n",
    "        #tolerancia  \n",
    "        if (np.linalg.norm(x-x0,np.inf) < tol):  \n",
    "            return x  \n",
    "        #prepara nova iteracao  \n",
    "        x0 = np.copy(x)  \n",
    "    raise NameError('num. max. de iteracoes excedido.')"
   ]
  },
  {
   "cell_type": "code",
   "execution_count": 89,
   "metadata": {},
   "outputs": [
    {
     "data": {
      "text/plain": [
       "array([[23],\n",
       "       [26]])"
      ]
     },
     "execution_count": 89,
     "metadata": {},
     "output_type": "execute_result"
    }
   ],
   "source": [
    "A = np.array([-3,1,1,2  ,2,5,1,5,  2,3,7,-17])\n",
    "A = np.reshape(A,(3,4))\n",
    "b = np.array([2,5,-17])\n",
    "b = np.reshape(b,(3,1))\n",
    "\n",
    "A2 = np.array([10,1,  1,8])\n",
    "A2 = np.reshape(A2,(2,2))\n",
    "b2 = np.array([23,26])\n",
    "b2 = np.reshape(b2,(2,1))\n",
    "b2"
   ]
  },
  {
   "cell_type": "code",
   "execution_count": 90,
   "metadata": {},
   "outputs": [],
   "source": [
    "x0 = np.array([0,0])\n",
    "res2 = jacobi(A2,b2,x0,0.01,1000)"
   ]
  },
  {
   "cell_type": "code",
   "execution_count": 91,
   "metadata": {},
   "outputs": [],
   "source": [
    "x0 = np.array([1,1,-1])\n",
    "res = jacobi(A,b,x0,0.01,1000)"
   ]
  },
  {
   "cell_type": "code",
   "execution_count": 101,
   "metadata": {},
   "outputs": [],
   "source": [
    "import matplotlib.pyplot as plt\n",
    "\n",
    "%matplotlib inline"
   ]
  },
  {
   "cell_type": "code",
   "execution_count": 103,
   "metadata": {},
   "outputs": [
    {
     "data": {
      "text/plain": [
       "[<matplotlib.lines.Line2D at 0x7f1d5a4965c0>,\n",
       " <matplotlib.lines.Line2D at 0x7f1d5a496780>]"
      ]
     },
     "execution_count": 103,
     "metadata": {},
     "output_type": "execute_result"
    },
    {
     "data": {
      "image/png": "[encoded data removed]",
      "text/plain": [
       "<Figure size 432x288 with 1 Axes>"
      ]
     },
     "metadata": {},
     "output_type": "display_data"
    }
   ],
   "source": [
    "plt.plot(A2,b2)"
   ]
  },
  {
   "cell_type": "code",
   "execution_count": 94,
   "metadata": {},
   "outputs": [
    {
     "data": {
      "text/plain": [
       "array([1.9996875 , 2.99953125])"
      ]
     },
     "execution_count": 94,
     "metadata": {},
     "output_type": "execute_result"
    }
   ],
   "source": [
    "res2"
   ]
  },
  {
   "cell_type": "code",
   "execution_count": 104,
   "metadata": {},
   "outputs": [
    {
     "data": {
      "text/plain": [
       "array([-1.00233816,  2.00177679, -2.99730904])"
      ]
     },
     "execution_count": 104,
     "metadata": {},
     "output_type": "execute_result"
    }
   ],
   "source": [
    "res"
   ]
  },
  {
   "cell_type": "code",
   "execution_count": null,
   "metadata": {},
   "outputs": [],
   "source": []
  }
 ],
 "metadata": {
  "kernelspec": {
   "display_name": "Python 3",
   "language": "python",
   "name": "python3"
  },
  "language_info": {
   "codemirror_mode": {
    "name": "ipython",
    "version": 3
   },
   "file_extension": ".py",
   "mimetype": "text/x-python",
   "name": "python",
   "nbconvert_exporter": "python",
   "pygments_lexer": "ipython3",
   "version": "3.6.5"
  }
 },
 "nbformat": 4,
 "nbformat_minor": 2
}
