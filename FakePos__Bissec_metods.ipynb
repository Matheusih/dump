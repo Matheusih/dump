{
 "cells": [
  {
   "cell_type": "code",
   "execution_count": 1,
   "metadata": {},
   "outputs": [],
   "source": [
    "import math\n",
    "import random"
   ]
  },
  {
   "cell_type": "code",
   "execution_count": 2,
   "metadata": {},
   "outputs": [],
   "source": [
    "def f(x):\n",
    "    y = x**3 - 9*x + 5\n",
    "    #y = (x**4) - 8*(x**3) - 35*(x**2) + 450 * x - 1001\n",
    "    return y"
   ]
  },
  {
   "cell_type": "code",
   "execution_count": 3,
   "metadata": {},
   "outputs": [],
   "source": [
    "## Método da Bisseção por Iteração e por Error defs:\n",
    "def metodoBisecIter(a,b,e):\n",
    "    max_k = 6\n",
    "    if b-a < e:\n",
    "        x = random.uniform(a,b)\n",
    "    else:\n",
    "        k=1\n",
    "        m=f(a)\n",
    "        while k < max_k:\n",
    "            x = (a+b)/2\n",
    "            print(\"Iteracao {} -> Valor de X: {}\".format(k,x))\n",
    "            if m*f(x) > 0:\n",
    "                a = x\n",
    "            else:\n",
    "                b = x\n",
    "            if b-a<e:\n",
    "                x = random.uniform(a,b)\n",
    "            k = k + 1\n",
    "        print('Root of interval is {}'.format(x))\n",
    "        \n",
    "def metodoBisecError(a,b,e):\n",
    "    if f(a) * f(b) > 0:\n",
    "        print(\"no roots\")\n",
    "        return\n",
    "    else:\n",
    "        while True:\n",
    "            x = (a+b)/2\n",
    "            if f(x) == 0:\n",
    "                print(\"root is equal to {}\".format(x))\n",
    "                return\n",
    "            elif f(a) * f(x) < 0:\n",
    "                b = x\n",
    "            else:\n",
    "                a = x\n",
    "            print(\"e = {}  // f(x) = {}  // x = {}\".format(e, f(x), x))\n",
    "            if e > abs(f(x)):\n",
    "                print(\"root is near {}\".format(x))\n",
    "                return"
   ]
  },
  {
   "cell_type": "code",
   "execution_count": 4,
   "metadata": {},
   "outputs": [
    {
     "name": "stdout",
     "output_type": "stream",
     "text": [
      "Iteracao 1 -> Valor de X: 0.75\n",
      "Iteracao 2 -> Valor de X: 0.625\n",
      "Iteracao 3 -> Valor de X: 0.5625\n",
      "Iteracao 4 -> Valor de X: 0.59375\n",
      "Iteracao 5 -> Valor de X: 0.578125\n",
      "Root of interval is 0.578125\n"
     ]
    }
   ],
   "source": [
    "metodoBisecIter(0.5,1,0.01)"
   ]
  },
  {
   "cell_type": "code",
   "execution_count": 5,
   "metadata": {},
   "outputs": [
    {
     "name": "stdout",
     "output_type": "stream",
     "text": [
      "e = 0.01  // f(x) = -1.328125  // x = 0.75\n",
      "e = 0.01  // f(x) = -0.380859375  // x = 0.625\n",
      "e = 0.01  // f(x) = 0.115478515625  // x = 0.5625\n",
      "e = 0.01  // f(x) = -0.134429931640625  // x = 0.59375\n",
      "e = 0.01  // f(x) = -0.009899139404296875  // x = 0.578125\n",
      "root is near 0.578125\n"
     ]
    }
   ],
   "source": [
    "metodoBisecError(0.5,1,0.01)"
   ]
  },
  {
   "cell_type": "code",
   "execution_count": 6,
   "metadata": {},
   "outputs": [],
   "source": [
    "def metodoFakePosIter(a,b,e):\n",
    "    k_max = 10\n",
    "    if f(a)*f(b)>0:\n",
    "        print(\"no roots\")\n",
    "        return\n",
    "    else:\n",
    "        x = ( (a*(f(b))) - (b*(f(a)))  ) /  ( (f(b)) - (f(a)))\n",
    "        for k in range(k_max):\n",
    "            if abs(f(x)) >= e:\n",
    "                if (f(a)*f(x)) < 0:\n",
    "                    b = x\n",
    "                else:\n",
    "                    a = x\n",
    "            else:\n",
    "                break\n",
    "            x = ( (a*(f(b))) - (b*(f(a)))  ) /  ( (f(b)) - (f(a)))   \n",
    "            k = k + 1\n",
    "        print(\"Root is {}\".format(x))\n",
    "        \n",
    "def metodoFakePosError(a,b,e):\n",
    "    if f(a)*f(b)>0:\n",
    "        print(\"no roots\")\n",
    "        return\n",
    "    else:\n",
    "        x = ( (a*(f(b))) - (b*(f(a)))  ) /  ( (f(b)) - (f(a)))\n",
    "        while abs(f(x)) >= e:\n",
    "            if abs(f(x)) >= e:\n",
    "                if (f(a)*f(x)) < 0:\n",
    "                    b = x\n",
    "                else:\n",
    "                    a = x\n",
    "            else:\n",
    "                break\n",
    "            x = ( (a*(f(b))) - (b*(f(a)))  ) /  ( (f(b)) - (f(a)))   \n",
    "        print(\"Root is {}\".format(x))"
   ]
  },
  {
   "cell_type": "code",
   "execution_count": 7,
   "metadata": {},
   "outputs": [
    {
     "name": "stdout",
     "output_type": "stream",
     "text": [
      "Root is 0.5770344044260434\n"
     ]
    }
   ],
   "source": [
    "metodoFakePosError(0.5,1,0.01)"
   ]
  },
  {
   "cell_type": "code",
   "execution_count": null,
   "metadata": {},
   "outputs": [],
   "source": []
  }
 ],
 "metadata": {
  "kernelspec": {
   "display_name": "Python 3",
   "language": "python",
   "name": "python3"
  },
  "language_info": {
   "codemirror_mode": {
    "name": "ipython",
    "version": 3
   },
   "file_extension": ".py",
   "mimetype": "text/x-python",
   "name": "python",
   "nbconvert_exporter": "python",
   "pygments_lexer": "ipython3",
   "version": "3.6.5"
  }
 },
 "nbformat": 4,
 "nbformat_minor": 2
}
