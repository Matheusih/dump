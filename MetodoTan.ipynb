{
 "cells": [
  {
   "cell_type": "code",
   "execution_count": 1,
   "metadata": {},
   "outputs": [],
   "source": [
    "import numpy as np\n",
    "from math import *"
   ]
  },
  {
   "cell_type": "code",
   "execution_count": 2,
   "metadata": {},
   "outputs": [],
   "source": [
    "def fun(x):\n",
    "    return x**3 - 9*x + 3\n",
    "def der_fun(x):\n",
    "    return 3*x**2 - 9\n",
    "\n",
    "def fun3(x):\n",
    "    return (e**x) * cos(x)\n",
    "def der_fun3(x):\n",
    "    return e**x * (-sin(x))\n",
    "\n",
    "def fun1(x):\n",
    "    return cos(x) + 2*sin(x) + x**2\n",
    "def der_fun1(x):\n",
    "    return 2*x - sin(x) + 2*cos(x)\n",
    "\n",
    "def tangent_method(x0, e1, e2, f, der_f):\n",
    "    if abs(f(x0)) < e1:\n",
    "        return x0\n",
    "    else:\n",
    "        k = 1\n",
    "        for k in range(100):\n",
    "            x1 = x0 - (f(x0) / der_f(x0))\n",
    "            if abs(f(x1)) < e1 or abs(x1 - x0) < e2:\n",
    "                print('Iterations: {},  found root: {}'.format(k, x1))\n",
    "                return x1\n",
    "            else:\n",
    "                x0 = x1"
   ]
  },
  {
   "cell_type": "code",
   "execution_count": 3,
   "metadata": {},
   "outputs": [
    {
     "name": "stdout",
     "output_type": "stream",
     "text": [
      "Iterations: 1,  found root: 0.33741514117297\n",
      "0.33741514117297\n",
      "Iterations: 3,  found root: -0.6592651297983986\n",
      "-0.6592651297983986\n"
     ]
    }
   ],
   "source": [
    "res = tangent_method(0.75, 0.01, 0.01, fun, der_fun)\n",
    "print(res)\n",
    "res = tangent_method(1.3,0.00001,0.00001,fun1, der_fun1)\n",
    "print(res)"
   ]
  },
  {
   "cell_type": "code",
   "execution_count": 4,
   "metadata": {},
   "outputs": [],
   "source": [
    "def fun1_s(x):\n",
    "    return x**2 - 2\n",
    "def fun2_s(x):\n",
    "    return cos(x) + 2*sin(x) + x**2\n",
    "\n",
    "def sec_method(x0, x1, e1, e2, fun):\n",
    "    if abs(fun(x0)) < e1:\n",
    "        return x0\n",
    "    if abs(fun(x1)) < e1 or abs(x1-x0) < e2:\n",
    "        return x1\n",
    "    k = 1\n",
    "    for k in range(100):\n",
    "        x2 = x1 - (fun(x1) / ((fun(x1) - fun(x0))) * (x1-x0))\n",
    "        if fun(x2) < e1 or abs(x2 - x1) < e2:\n",
    "            print('Iterations {}, found root: {}'.format(k, x2))\n",
    "            return x2\n",
    "        else:\n",
    "            x0 = x1\n",
    "            x1 = x2"
   ]
  },
  {
   "cell_type": "code",
   "execution_count": 5,
   "metadata": {},
   "outputs": [
    {
     "name": "stdout",
     "output_type": "stream",
     "text": [
      "Iterations 1, found root: 1.3333333333333335\n",
      "1.3333333333333335\n"
     ]
    }
   ],
   "source": [
    "res = sec_method(0,1,0.001, 0.001, fun1_s)  ##teste 3\n",
    "print(res)"
   ]
  },
  {
   "cell_type": "code",
   "execution_count": 6,
   "metadata": {},
   "outputs": [
    {
     "name": "stdout",
     "output_type": "stream",
     "text": [
      "Iterations 0, found root: -0.8751665391346378\n",
      "-0.8751665391346378\n"
     ]
    }
   ],
   "source": [
    "res = sec_method(0,-1,0.001,0.001,fun2_s)\n",
    "print(res)"
   ]
  },
  {
   "cell_type": "code",
   "execution_count": null,
   "metadata": {},
   "outputs": [],
   "source": []
  }
 ],
 "metadata": {
  "kernelspec": {
   "display_name": "Python 3",
   "language": "python",
   "name": "python3"
  },
  "language_info": {
   "codemirror_mode": {
    "name": "ipython",
    "version": 3
   },
   "file_extension": ".py",
   "mimetype": "text/x-python",
   "name": "python",
   "nbconvert_exporter": "python",
   "pygments_lexer": "ipython3",
   "version": "3.6.5"
  }
 },
 "nbformat": 4,
 "nbformat_minor": 2
}
